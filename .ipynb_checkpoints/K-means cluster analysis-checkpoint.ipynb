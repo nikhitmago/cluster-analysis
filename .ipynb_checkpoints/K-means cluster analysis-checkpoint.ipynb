{
 "cells": [
  {
   "cell_type": "markdown",
   "metadata": {},
   "source": [
    "## K-Means Clustering on a Multi-Class and Multi-Label Data Set"
   ]
  },
  {
   "cell_type": "code",
   "execution_count": 1,
   "metadata": {},
   "outputs": [],
   "source": [
    "import numpy as np\n",
    "import pandas as pd\n",
    "from sklearn.cluster import KMeans\n",
    "from sklearn.metrics import silhouette_score\n",
    "import matplotlib.pyplot as plt\n",
    "%matplotlib inline"
   ]
  },
  {
   "cell_type": "code",
   "execution_count": 2,
   "metadata": {},
   "outputs": [],
   "source": [
    "df =  pd.read_csv(\"/Users/nikmag/Desktop/USC/INF_552_ML/HW4/Data_P2/Frogs_MFCCs.csv\")"
   ]
  },
  {
   "cell_type": "code",
   "execution_count": 4,
   "metadata": {},
   "outputs": [],
   "source": [
    "del df['RecordID']"
   ]
  },
  {
   "cell_type": "code",
   "execution_count": 5,
   "metadata": {},
   "outputs": [],
   "source": [
    "df.columns = [i.lower().replace(\" \",\"\") for i in df.columns]\n",
    "for i in ['family','genus','species']:\n",
    "    df[i] = df[i].apply(lambda x: x.lower())"
   ]
  },
  {
   "cell_type": "code",
   "execution_count": 6,
   "metadata": {},
   "outputs": [],
   "source": [
    "X = df.loc[:,[i for i in df.columns.tolist() if i not in ['family','genus','species']]]\n",
    "y = df.loc[:,['family','genus','species']]"
   ]
  },
  {
   "cell_type": "markdown",
   "metadata": {},
   "source": [
    "### Using Within Sum of Squares (WSS) to find the optimal K value for the clusters using Elbow method"
   ]
  },
  {
   "cell_type": "code",
   "execution_count": 38,
   "metadata": {},
   "outputs": [],
   "source": [
    "wss = []\n",
    "for k in range(2,11):    \n",
    "    kmeans = KMeans(n_clusters=k, random_state=0)\n",
    "    cluster_labels = kmeans.fit_predict(X)\n",
    "    wss.append(kmeans.inertia_)"
   ]
  },
  {
   "cell_type": "code",
   "execution_count": 39,
   "metadata": {},
   "outputs": [
    {
     "data": {
      "image/png": "[encoded data removed]",
      "text/plain": [
       "<matplotlib.figure.Figure at 0x10e41a7d0>"
      ]
     },
     "metadata": {},
     "output_type": "display_data"
    }
   ],
   "source": [
    "plt.plot(range(2,11), wss, 'bx-')\n",
    "plt.xlabel('k')\n",
    "plt.ylabel('Within Sum of Squares')\n",
    "plt.title('The Elbow Method showing the optimal k')\n",
    "plt.show()"
   ]
  },
  {
   "cell_type": "markdown",
   "metadata": {},
   "source": [
    "The elbow is observed at a value of K = 5, after which the WSS decreases constantly. We do not want the value of K to be too large, as we'll get very small clusters"
   ]
  },
  {
   "cell_type": "markdown",
   "metadata": {},
   "source": [
    "In each cluster, determine which family is the majority by reading the true labels. Repeat for genus and species."
   ]
  },
  {
   "cell_type": "markdown",
   "metadata": {},
   "source": [
    "### Running KMeans for K = 5"
   ]
  },
  {
   "cell_type": "code",
   "execution_count": 44,
   "metadata": {},
   "outputs": [],
   "source": [
    "kmeans = KMeans(n_clusters=5, random_state=0)\n",
    "cluster_labels = kmeans.fit_predict(X)"
   ]
  },
  {
   "cell_type": "code",
   "execution_count": 53,
   "metadata": {},
   "outputs": [],
   "source": [
    "df = pd.concat([X,y,pd.DataFrame({'clus_labels':cluster_labels.tolist()})],axis = 1)"
   ]
  },
  {
   "cell_type": "markdown",
   "metadata": {},
   "source": [
    "### Checking distribution of the clusters"
   ]
  },
  {
   "cell_type": "code",
   "execution_count": 55,
   "metadata": {},
   "outputs": [
    {
     "data": {
      "text/plain": [
       "0    3558\n",
       "3    1554\n",
       "1    1032\n",
       "4     619\n",
       "2     432\n",
       "Name: clus_labels, dtype: int64"
      ]
     },
     "execution_count": 55,
     "metadata": {},
     "output_type": "execute_result"
    }
   ],
   "source": [
    "df['clus_labels'].value_counts()"
   ]
  },
  {
   "cell_type": "code",
   "execution_count": 70,
   "metadata": {},
   "outputs": [
    {
     "name": "stdout",
     "output_type": "stream",
     "text": [
      "Cluster 1\n",
      "\n",
      "\n",
      "Majority class in family - leptodactylidae\n",
      "Majority class in genus - adenomera\n",
      "Majority class in species - adenomerahylaedactylus\n",
      "\n",
      "\n",
      "Cluster 2\n",
      "\n",
      "\n",
      "Majority class in family - dendrobatidae\n",
      "Majority class in genus - ameerega\n",
      "Majority class in species - ameeregatrivittata\n",
      "\n",
      "\n",
      "Cluster 3\n",
      "\n",
      "\n",
      "Majority class in family - leptodactylidae\n",
      "Majority class in genus - adenomera\n",
      "Majority class in species - adenomeraandre\n",
      "\n",
      "\n",
      "Cluster 4\n",
      "\n",
      "\n",
      "Majority class in family - hylidae\n",
      "Majority class in genus - hypsiboas\n",
      "Majority class in species - hypsiboascordobae\n",
      "\n",
      "\n",
      "Cluster 5\n",
      "\n",
      "\n",
      "Majority class in family - hylidae\n",
      "Majority class in genus - hypsiboas\n",
      "Majority class in species - hypsiboascinerascens\n",
      "\n",
      "\n"
     ]
    }
   ],
   "source": [
    "for k in range(5):\n",
    "    temp = df[df['clus_labels']==k]\n",
    "    print('Cluster %s' % str(k+1))\n",
    "    print('\\n')\n",
    "    print('Majority class in family - %s' % temp['family'].value_counts().index[0])\n",
    "    print('Majority class in genus - %s' % temp['genus'].value_counts().index[0])\n",
    "    print('Majority class in species - %s' % temp['species'].value_counts().index[0])"
   ]
  },
  {
   "cell_type": "markdown",
   "metadata": {},
   "source": [
    "Now for each cluster you have a majority label triplet (family, genus, species). Calculate the average Hamming distance between the true labels and the labels assigned by clusters."
   ]
  },
  {
   "cell_type": "code",
   "execution_count": 74,
   "metadata": {},
   "outputs": [],
   "source": [
    "d = {k:[] for k in range(5)}\n",
    "for k in range(5):\n",
    "    temp = df[df['clus_labels']==k]\n",
    "    d[k].append(temp['family'].value_counts().index[0])\n",
    "    d[k].append(temp['genus'].value_counts().index[0])\n",
    "    d[k].append(temp['species'].value_counts().index[0])"
   ]
  },
  {
   "cell_type": "code",
   "execution_count": 84,
   "metadata": {},
   "outputs": [
    {
     "data": {
      "text/plain": [
       "{0: ['leptodactylidae', 'adenomera', 'adenomerahylaedactylus'],\n",
       " 1: ['dendrobatidae', 'ameerega', 'ameeregatrivittata'],\n",
       " 2: ['leptodactylidae', 'adenomera', 'adenomeraandre'],\n",
       " 3: ['hylidae', 'hypsiboas', 'hypsiboascordobae'],\n",
       " 4: ['hylidae', 'hypsiboas', 'hypsiboascinerascens']}"
      ]
     },
     "execution_count": 84,
     "metadata": {},
     "output_type": "execute_result"
    }
   ],
   "source": [
    "d"
   ]
  },
  {
   "cell_type": "code",
   "execution_count": 120,
   "metadata": {},
   "outputs": [],
   "source": [
    "df['family_clus'] = 'none'\n",
    "df['genus_clus'] = 'none'\n",
    "df['species_clus'] = 'none'"
   ]
  },
  {
   "cell_type": "code",
   "execution_count": 121,
   "metadata": {},
   "outputs": [],
   "source": [
    "for k in range(5):\n",
    "    df['family_clus'] = np.where(df['clus_labels']==k,d[k][0],df['family_clus'])\n",
    "    df['genus_clus'] = np.where(df['clus_labels']==k,d[k][1],df['genus_clus'])\n",
    "    df['species_clus'] = np.where(df['clus_labels']==k,d[k][2],df['species_clus'])"
   ]
  },
  {
   "cell_type": "code",
   "execution_count": 139,
   "metadata": {},
   "outputs": [],
   "source": [
    "predicted = df.loc[:,['family_clus','genus_clus','species_clus']].rename(columns={'family_clus':'family','genus_clus':'genus','species_clus':'species'})"
   ]
  },
  {
   "cell_type": "code",
   "execution_count": 140,
   "metadata": {},
   "outputs": [],
   "source": [
    "actual = df.loc[:,['family','genus','species']]"
   ]
  },
  {
   "cell_type": "code",
   "execution_count": 141,
   "metadata": {},
   "outputs": [],
   "source": [
    "match = {k:object for k in ['family','genus','species']}\n",
    "for i in ['family','genus','species']:\n",
    "    match[i] = np.where(actual[i] == predicted[i],1,0)\n",
    "\n",
    "df_match = pd.DataFrame(match)\n",
    "\n",
    "df_match['sum'] = df_match[['family','genus','species']].sum(axis=1)\n",
    "df_match['hamming_match'] = df_match['sum'].astype(float)/3.0"
   ]
  },
  {
   "cell_type": "code",
   "execution_count": 151,
   "metadata": {},
   "outputs": [
    {
     "name": "stdout",
     "output_type": "stream",
     "text": [
      "hamming score = 0.8322446143154969\n"
     ]
    }
   ],
   "source": [
    "print('hamming score = %s' % str(df_match['hamming_match'].sum(axis=0)/len(df_match)))"
   ]
  },
  {
   "cell_type": "markdown",
   "metadata": {},
   "source": [
    "The hamming score observed after clustering is 0.83, which is not that bad. This proves that K-means is a decent classifier for this "
   ]
  }
 ],
 "metadata": {
  "kernelspec": {
   "display_name": "Python 2",
   "language": "python",
   "name": "python2"
  },
  "language_info": {
   "codemirror_mode": {
    "name": "ipython",
    "version": 2
   },
   "file_extension": ".py",
   "mimetype": "text/x-python",
   "name": "python",
   "nbconvert_exporter": "python",
   "pygments_lexer": "ipython2",
   "version": "2.7.14"
  }
 },
 "nbformat": 4,
 "nbformat_minor": 2
}
